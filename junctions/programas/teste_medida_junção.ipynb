{
 "cells": [
  {
   "cell_type": "code",
   "execution_count": null,
   "id": "6508220f",
   "metadata": {
    "vscode": {
     "languageId": "plaintext"
    }
   },
   "outputs": [],
   "source": [
    "import pyvisa\n",
    "import numpy as np\n",
    "import matplotlib.pyplot as plt\n",
    "import pandas as pd\n",
    "import time as ti\n"
   ]
  },
  {
   "cell_type": "code",
   "execution_count": null,
   "id": "4d40e5c6",
   "metadata": {
    "vscode": {
     "languageId": "plaintext"
    }
   },
   "outputs": [],
   "source": [
    "rm = pyvisa.ResourceManager()\n",
    "my_instrument = rm.open_resource(rm.list_resources()[0])\n",
    "my_instrument.query('*IDN?') #comunicação com dispositivo\n",
    "my_instrument.query('FREQ?') #devolve a frequencia de comunicação"
   ]
  },
  {
   "cell_type": "code",
   "execution_count": null,
   "id": "2bc3b3ae",
   "metadata": {
    "vscode": {
     "languageId": "plaintext"
    }
   },
   "outputs": [],
   "source": [
    "primeiro_valor=0.005\n",
    "ultimo_valor=0.050\n",
    "passo=0.001\n",
    "a=np.arange(primeiro_valor, ultimo_valor, passo)\n",
    "    "
   ]
  },
  {
   "cell_type": "code",
   "execution_count": null,
   "id": "f4b4e41e",
   "metadata": {
    "vscode": {
     "languageId": "plaintext"
    }
   },
   "outputs": [],
   "source": [
    "Rdut=[]\n",
    "Vdut=[]\n",
    "idut=[]\n",
    "R=1000000\n",
    "my_instrument.write('APHS')\n",
    "for t in a:\n",
    "    my_instrument.write(f'SLVL {t}') #pega os valores que tão em 'a' e coloca no seno \n",
    "    if(t<0.006):\n",
    "        ti.sleep(0.5) #precisa de mais tempo pra fazer a leitura do primeiro valor \n",
    "    else:\n",
    "        ti.sleep(0.2)\n",
    "    v = float(my_instrument.query('OUTP? X'.rstrip())) #le o valor sem aspas\n",
    "    Vdut.append(v)\n",
    "    req = (v*R)/(t-v)\n",
    "    Rdut.append(req)\n",
    "    idut.append(v/req)\n",
    "    #ti.sleep(0.2)"
   ]
  },
  {
   "cell_type": "code",
   "execution_count": null,
   "id": "498dd77d",
   "metadata": {
    "vscode": {
     "languageId": "plaintext"
    }
   },
   "outputs": [],
   "source": [
    "plt.plot(idut,Vdut,'b.')\n",
    "\n",
    "plt.xlabel('corrente (A)')\n",
    "plt.ylabel('tensão (V)')\n",
    "A,B = np.polyfit(idut,Vdut,1) #achando coeficiente linear e angular dos diros diretos\n",
    "y=np.zeros(len(idut))\n",
    "j=0\n",
    "for i in idut:\n",
    "    y[j]=i*A+B\n",
    "    j=j+1\n",
    "\n",
    "plt.plot(idut,y,'r',label='resistência da junção')\n",
    "\n",
    "print(A)\n",
    "plt.legend()\n",
    "plt.show()\n"
   ]
  }
 ],
 "metadata": {
  "kernelspec": {
   "display_name": "Python 3 (ipykernel)",
   "language": "python",
   "name": "python3"
  },
  "language_info": {
   "codemirror_mode": {
    "name": "ipython",
    "version": 3
   },
   "file_extension": ".py",
   "mimetype": "text/x-python",
   "name": "python",
   "nbconvert_exporter": "python",
   "pygments_lexer": "ipython3",
   "version": "3.10.12"
  }
 },
 "nbformat": 4,
 "nbformat_minor": 5
}
