{
 "cells": [
  {
   "cell_type": "code",
   "execution_count": 2,
   "id": "60accf06-b42d-4ca7-850f-9d68eafec09a",
   "metadata": {},
   "outputs": [],
   "source": [
    "import pyvisa\n",
    "import numpy as np\n",
    "import matplotlib.pyplot as plt\n",
    "import pandas as pd\n",
    "from mmq import metodo_minimos_quadrados\n",
    "\n",
    "\n"
   ]
  },
  {
   "cell_type": "code",
   "execution_count": 1,
   "id": "cebaee6b-181a-47f7-8340-a69ffc044615",
   "metadata": {
    "scrolled": true
   },
   "outputs": [
    {
     "ename": "NameError",
     "evalue": "name 'pyvisa' is not defined",
     "output_type": "error",
     "traceback": [
      "\u001b[0;31m---------------------------------------------------------------------------\u001b[0m",
      "\u001b[0;31mNameError\u001b[0m                                 Traceback (most recent call last)",
      "Cell \u001b[0;32mIn[1], line 1\u001b[0m\n\u001b[0;32m----> 1\u001b[0m rm \u001b[38;5;241m=\u001b[39m \u001b[43mpyvisa\u001b[49m\u001b[38;5;241m.\u001b[39mResourceManager()\n\u001b[1;32m      2\u001b[0m rm\u001b[38;5;241m.\u001b[39mlist_resources()[\u001b[38;5;241m0\u001b[39m]\n\u001b[1;32m      3\u001b[0m my_instrument \u001b[38;5;241m=\u001b[39m rm\u001b[38;5;241m.\u001b[39mopen_resource(rm\u001b[38;5;241m.\u001b[39mlist_resources()[\u001b[38;5;241m0\u001b[39m])\n",
      "\u001b[0;31mNameError\u001b[0m: name 'pyvisa' is not defined"
     ]
    }
   ],
   "source": [
    "rm = pyvisa.ResourceManager()\n",
    "rm.list_resources()[0]\n"
   ]
  },
  {
   "cell_type": "code",
   "execution_count": 3,
   "id": "ce37dff9-f77d-45cc-90fc-4f9ca4e2b685",
   "metadata": {},
   "outputs": [
    {
     "data": {
      "text/plain": [
       "'12340\\n'"
      ]
     },
     "execution_count": 3,
     "metadata": {},
     "output_type": "execute_result"
    }
   ],
   "source": [
    "my_instrument = rm.open_resource(rm.list_resources()[0])\n",
    "my_instrument.query('*IDN?') #comunicação com dispositivo\n",
    "my_instrument.query('FREQ?') #devolve a frequencia de comunicação"
   ]
  },
  {
   "cell_type": "code",
   "execution_count": 4,
   "id": "8c85baef-ffbb-49c2-9ae8-4cfc51944f46",
   "metadata": {},
   "outputs": [
    {
     "data": {
      "text/plain": [
       "12"
      ]
     },
     "execution_count": 4,
     "metadata": {},
     "output_type": "execute_result"
    }
   ],
   "source": [
    "my_instrument.write('FREQ 12340')"
   ]
  },
  {
   "cell_type": "code",
   "execution_count": 5,
   "id": "875a93db-c986-406b-81e9-704dee3dd8d5",
   "metadata": {},
   "outputs": [
    {
     "data": {
      "text/plain": [
       "'12340\\n'"
      ]
     },
     "execution_count": 5,
     "metadata": {},
     "output_type": "execute_result"
    }
   ],
   "source": [
    "my_instrument.query('FREQ?')"
   ]
  },
  {
   "cell_type": "code",
   "execution_count": 6,
   "id": "2be405f4-8550-4dd2-a224-f62357e402fa",
   "metadata": {},
   "outputs": [
    {
     "data": {
      "text/plain": [
       "0.19900001585"
      ]
     },
     "execution_count": 6,
     "metadata": {},
     "output_type": "execute_result"
    }
   ],
   "source": [
    "#leitura da tensão seno \n",
    "float(my_instrument.query('SLVL?').rstrip())"
   ]
  },
  {
   "cell_type": "code",
   "execution_count": 7,
   "id": "08b8fa74-82fc-4aae-87d9-bd6c7b95b689",
   "metadata": {},
   "outputs": [
    {
     "data": {
      "text/plain": [
       "14"
      ]
     },
     "execution_count": 7,
     "metadata": {},
     "output_type": "execute_result"
    }
   ],
   "source": [
    "my_instrument.write('SLVL 0.00031')"
   ]
  },
  {
   "cell_type": "code",
   "execution_count": 8,
   "id": "030b7c0e-fb3a-4a1f-9927-72ce376dee8e",
   "metadata": {},
   "outputs": [
    {
     "data": {
      "text/plain": [
       "12"
      ]
     },
     "execution_count": 8,
     "metadata": {},
     "output_type": "execute_result"
    }
   ],
   "source": [
    "A=0.002\n",
    "my_instrument.write(f'SLVL {A}')\n",
    "#aqui eu basicamente to falando o valor que o seno vai ter"
   ]
  },
  {
   "cell_type": "code",
   "execution_count": 9,
   "id": "27d2a126-ca40-4c61-b729-ee8bbfeb8b7b",
   "metadata": {},
   "outputs": [
    {
     "data": {
      "text/plain": [
       "8"
      ]
     },
     "execution_count": 9,
     "metadata": {},
     "output_type": "execute_result"
    }
   ],
   "source": [
    "#aqui eu seto se eu vou ler o A ou o A-B, o A é quando é 0 e A-B quando é 1\n",
    "my_instrument.write('ISRC 0')"
   ]
  },
  {
   "cell_type": "code",
   "execution_count": 10,
   "id": "46be0c6a-a565-417b-99ef-5e8aaae8bafe",
   "metadata": {},
   "outputs": [
    {
     "data": {
      "text/plain": [
       "'6.3102316972e-07\\n'"
      ]
     },
     "execution_count": 10,
     "metadata": {},
     "output_type": "execute_result"
    }
   ],
   "source": [
    "#Aqui a gente le uma entrada ou outra, no caso consegue ler qualquer valor \n",
    "my_instrument.query('OUTP? X')"
   ]
  },
  {
   "cell_type": "code",
   "execution_count": 11,
   "id": "ce800502-d849-4157-b94b-e3ed3ba4c48f",
   "metadata": {},
   "outputs": [
    {
     "data": {
      "text/plain": [
       "array([0.  , 0.01, 0.02, 0.03, 0.04, 0.05, 0.06, 0.07, 0.08, 0.09, 0.1 ,\n",
       "       0.11, 0.12, 0.13, 0.14, 0.15, 0.16, 0.17, 0.18, 0.19, 0.2 , 0.21,\n",
       "       0.22, 0.23, 0.24, 0.25, 0.26, 0.27, 0.28, 0.29, 0.3 , 0.31, 0.32,\n",
       "       0.33, 0.34, 0.35, 0.36, 0.37, 0.38, 0.39, 0.4 , 0.41, 0.42, 0.43,\n",
       "       0.44, 0.45, 0.46, 0.47, 0.48, 0.49, 0.5 , 0.51, 0.52, 0.53, 0.54,\n",
       "       0.55, 0.56, 0.57, 0.58, 0.59, 0.6 , 0.61, 0.62, 0.63, 0.64, 0.65,\n",
       "       0.66, 0.67, 0.68, 0.69, 0.7 , 0.71, 0.72, 0.73, 0.74, 0.75, 0.76,\n",
       "       0.77, 0.78, 0.79, 0.8 , 0.81, 0.82, 0.83, 0.84, 0.85, 0.86, 0.87,\n",
       "       0.88, 0.89, 0.9 , 0.91, 0.92, 0.93, 0.94, 0.95, 0.96, 0.97, 0.98,\n",
       "       0.99])"
      ]
     },
     "execution_count": 11,
     "metadata": {},
     "output_type": "execute_result"
    }
   ],
   "source": [
    "import numpy as np\n",
    "primeiro_valor=0;\n",
    "ultimo_valor=1;\n",
    "passo=0.01;\n",
    "a=np.arange(primeiro_valor, ultimo_valor, passo)\n",
    "a\n",
    "\n",
    "#aqui eu to criando o vetor de todos os valores de tensão que eu vou colocar\n",
    "#lembrar de criar um vetor com as medidas de tensão na saída "
   ]
  },
  {
   "cell_type": "code",
   "execution_count": null,
   "id": "83e093cf-170d-47db-8362-b1fb1380d6eb",
   "metadata": {},
   "outputs": [],
   "source": []
  },
  {
   "cell_type": "code",
   "execution_count": null,
   "id": "37b32d48-975f-41b0-aa64-c0943116296d",
   "metadata": {},
   "outputs": [],
   "source": [
    "#coisa extramamente importante é fazer um auto phase antes de qualquer medida, senao ele pode zerar o x e a gente ta medindo ele "
   ]
  },
  {
   "cell_type": "code",
   "execution_count": null,
   "id": "fb6173ac-6e61-4a37-82de-681f323fb884",
   "metadata": {},
   "outputs": [],
   "source": [
    "my_instrument.write('APHS')"
   ]
  },
  {
   "cell_type": "code",
   "execution_count": null,
   "id": "92bd99e5-cf4d-4c98-9373-bef4b1685b1b",
   "metadata": {},
   "outputs": [],
   "source": [
    "#Fazer uma medida de tensão e achar o valor de resistencia "
   ]
  },
  {
   "cell_type": "code",
   "execution_count": 17,
   "id": "6e8ae469-f366-4f56-b675-eabfec9ff918",
   "metadata": {},
   "outputs": [],
   "source": [
    "Rdut=[]\n",
    "Vdut=[]\n",
    "idut=[]\n",
    "R=1\n",
    "R_pot=1\n",
    "my_instrument.write('APHS')\n",
    "for t in a:\n",
    "    my_instrument.write(f'SLVL {t}') #pega os valores que tão em a e coloca no seno \n",
    "    v = float(my_instrument.query('OUTP? X'.rstrip())) #le o valor sem aspas\n",
    "    Vdut.append(v)\n",
    "    req = (v*R)/(t-v)\n",
    "    R = (req*R_pot)/(R_pot-req)\n",
    "    Rdut.append(R)\n",
    "    idut.append(v/R)"
   ]
  },
  {
   "cell_type": "code",
   "execution_count": 19,
   "id": "5e4ca8f1-62a4-4e13-80ea-e9e2ff6660b9",
   "metadata": {},
   "outputs": [
    {
     "data": {
      "text/plain": [
       "0.15376791358"
      ]
     },
     "execution_count": 19,
     "metadata": {},
     "output_type": "execute_result"
    }
   ],
   "source": [
    "  Vdut  idut"
   ]
  },
  {
   "cell_type": "code",
   "execution_count": 4,
   "id": "7aed0b00-168e-4769-a79e-e9fe477135d4",
   "metadata": {},
   "outputs": [
    {
     "data": {
      "image/png": "[encoded data removed]",
      "text/plain": [
       "<Figure size 640x480 with 1 Axes>"
      ]
     },
     "metadata": {},
     "output_type": "display_data"
    },
    {
     "data": {
      "text/plain": [
       "2.2746766917293244"
      ]
     },
     "execution_count": 4,
     "metadata": {},
     "output_type": "execute_result"
    }
   ],
   "source": [
    "plt.plot(idut,Vdut,'b.')\n",
    "\n",
    "plt.xlabel('corrente (A)')\n",
    "plt.ylabel('tensão (V)')\n",
    "A,B = metodo_minimos_quadrados.mmq(idut, Vdut, 1)\n",
    "plt.plot(idut,idut*A+B,'r',label='resistência da junção')\n",
    "\n",
    "R = (A*idut[10]+B)/idut[10]\n",
    "\n",
    "plt.legend()\n",
    "plt.show()\n",
    "R"
   ]
  },
  {
   "cell_type": "code",
   "execution_count": 3,
   "id": "4cb2c5f2-d48d-4b59-8989-591de135d3d7",
   "metadata": {},
   "outputs": [
    {
     "data": {
      "image/png": "[encoded data removed]",
      "text/plain": [
       "<Figure size 640x480 with 1 Axes>"
      ]
     },
     "metadata": {},
     "output_type": "display_data"
    },
    {
     "data": {
      "text/plain": [
       "2.2746766917293244"
      ]
     },
     "execution_count": 3,
     "metadata": {},
     "output_type": "execute_result"
    }
   ],
   "source": [
    "a=np.arange(0,10,0.5)\n",
    "b=[0,3.2,5,6,8.7,8.4,9,10.2,9.8,10.1,11,13,14.2,14.8,14.7,15,15.6,16,17,17.8]\n",
    "plt.plot(a,b,'b.')\n",
    "\n",
    "plt.xlabel('corrente (A)')\n",
    "plt.ylabel('tensão (V)')\n",
    "A,B=metodo_minimos_quadrados.mmq(a, b, 1)\n",
    "plt.plot(a,A*a+B,'r',label='resistência da junção')\n",
    "\n",
    "R = (A*a[10]+B)/a[10]\n",
    "\n",
    "plt.legend()\n",
    "plt.show()\n",
    "R"
   ]
  }
 ],
 "metadata": {
  "kernelspec": {
   "display_name": "Python 3 (ipykernel)",
   "language": "python",
   "name": "python3"
  },
  "language_info": {
   "codemirror_mode": {
    "name": "ipython",
    "version": 3
   },
   "file_extension": ".py",
   "mimetype": "text/x-python",
   "name": "python",
   "nbconvert_exporter": "python",
   "pygments_lexer": "ipython3",
   "version": "3.10.12"
  }
 },
 "nbformat": 4,
 "nbformat_minor": 5
}
