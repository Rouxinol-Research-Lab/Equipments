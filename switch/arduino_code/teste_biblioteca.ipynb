{
 "cells": [
  {
   "cell_type": "code",
   "execution_count": 12,
   "id": "928fbf42-0aa8-459d-8586-c64604d41d96",
   "metadata": {},
   "outputs": [],
   "source": [
    "import switch \n",
    "import serial"
   ]
  },
  {
   "cell_type": "code",
   "execution_count": 13,
   "id": "898a259d-8374-4a4b-a309-fcd51449b903",
   "metadata": {},
   "outputs": [
    {
     "name": "stdout",
     "output_type": "stream",
     "text": [
      "Arduino conectado\n"
     ]
    }
   ],
   "source": [
    "switch.conexao()\n"
   ]
  },
  {
   "cell_type": "code",
   "execution_count": 14,
   "id": "31538a17",
   "metadata": {
    "tags": [
     "parameters"
    ]
   },
   "outputs": [
    {
     "name": "stdout",
     "output_type": "stream",
     "text": [
      "switch 1 com bobinha  1 ligada\n",
      "switch 2 com bobinha  1 ligada\n"
     ]
    }
   ],
   "source": [
    "switch.medicao_bobina()"
   ]
  },
  {
   "cell_type": "code",
   "execution_count": 21,
   "id": "fa309a17-3433-4ab3-86d7-6ec036bcfe48",
   "metadata": {},
   "outputs": [
    {
     "name": "stdout",
     "output_type": "stream",
     "text": [
      "switch 1 com bobinha  2 ligada\n",
      "switch 2 com bobinha  0 ligada\n"
     ]
    }
   ],
   "source": [
    "switch.bobina(1,2'')\n",
    "switch.medicao_bobina()"
   ]
  },
  {
   "cell_type": "code",
   "execution_count": 19,
   "id": "61fa8209",
   "metadata": {},
   "outputs": [
    {
     "name": "stdout",
     "output_type": "stream",
     "text": [
      "switch 1 com bobinha  0 ligada\n",
      "switch 2 com bobinha  0 ligada\n"
     ]
    }
   ],
   "source": [
    "switch.zerar()"
   ]
  },
  {
   "cell_type": "code",
   "execution_count": 10,
   "id": "a8d83fbc",
   "metadata": {},
   "outputs": [],
   "source": [
    "switch.close()"
   ]
  },
  {
   "cell_type": "code",
   "execution_count": null,
   "id": "9d25a65f",
   "metadata": {},
   "outputs": [],
   "source": []
  },
  {
   "cell_type": "code",
   "execution_count": null,
   "id": "380b4d75-1ab2-4bc3-9ef8-71618a05e519",
   "metadata": {},
   "outputs": [],
   "source": []
  },
  {
   "cell_type": "code",
   "execution_count": null,
   "id": "7a654019",
   "metadata": {},
   "outputs": [],
   "source": []
  },
  {
   "cell_type": "code",
   "execution_count": null,
   "id": "d0d29797",
   "metadata": {},
   "outputs": [],
   "source": []
  }
 ],
 "metadata": {
  "kernelspec": {
   "display_name": "Python 3",
   "language": "python",
   "name": "python3"
  },
  "language_info": {
   "codemirror_mode": {
    "name": "ipython",
    "version": 3
   },
   "file_extension": ".py",
   "mimetype": "text/x-python",
   "name": "python",
   "nbconvert_exporter": "python",
   "pygments_lexer": "ipython3",
   "version": "3.13.1"
  }
 },
 "nbformat": 4,
 "nbformat_minor": 5
}
